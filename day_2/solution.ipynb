{
 "cells": [
  {
   "cell_type": "code",
   "execution_count": 74,
   "metadata": {},
   "outputs": [],
   "source": [
    "def program_alarm(input_list_2, id_i, id_j):\n",
    "    i = 0\n",
    "    input_list = input_list_2[:]\n",
    "    input_list[1] = id_i\n",
    "    input_list[2] = id_j\n",
    "    while i < len(input_list):\n",
    "        op_code = input_list[i]\n",
    "        if op_code == 99:\n",
    "            break\n",
    "        first_op = input_list[input_list[i+1]]\n",
    "        second_op = input_list[input_list[i+2]]\n",
    "        output_id = input_list[i+3]\n",
    "        if op_code == 1:\n",
    "            result = first_op + second_op\n",
    "            #print(f'{first_op} + {second_op} = {result} into {output_id}')\n",
    "        elif op_code == 2:\n",
    "            result = first_op * second_op\n",
    "            #print(f'{first_op} * {second_op} = {result} into {output_id}')\n",
    "        else:\n",
    "            break\n",
    "        input_list[output_id] = result\n",
    "        i = i+4\n",
    "    return input_list"
   ]
  },
  {
   "cell_type": "code",
   "execution_count": 12,
   "metadata": {
    "collapsed": true,
    "scrolled": false
   },
   "outputs": [],
   "source": [
    "test_input = [1,0,0,0,99]"
   ]
  },
  {
   "cell_type": "code",
   "execution_count": 23,
   "metadata": {
    "collapsed": true
   },
   "outputs": [],
   "source": [
    "test_input_2 = [1,9,10,3,2,3,11,0,99,30,40,50]"
   ]
  },
  {
   "cell_type": "code",
   "execution_count": 24,
   "metadata": {},
   "outputs": [
    {
     "name": "stdout",
     "output_type": "stream",
     "text": [
      "30 + 40 = 70 into 3\n",
      "70 * 50 = 3500 into 0\n"
     ]
    },
    {
     "data": {
      "text/plain": [
       "[3500, 9, 10, 70, 2, 3, 11, 0, 99, 30, 40, 50]"
      ]
     },
     "execution_count": 24,
     "metadata": {},
     "output_type": "execute_result"
    }
   ],
   "source": [
    "program_alarm(test_input_2)"
   ]
  },
  {
   "cell_type": "code",
   "execution_count": 25,
   "metadata": {
    "collapsed": true
   },
   "outputs": [],
   "source": [
    "test_input_3 = [1,1,1,4,99,5,6,0,99]"
   ]
  },
  {
   "cell_type": "code",
   "execution_count": 26,
   "metadata": {},
   "outputs": [
    {
     "name": "stdout",
     "output_type": "stream",
     "text": [
      "1 + 1 = 2 into 4\n",
      "5 * 6 = 30 into 0\n"
     ]
    },
    {
     "data": {
      "text/plain": [
       "[30, 1, 1, 4, 2, 5, 6, 0, 99]"
      ]
     },
     "execution_count": 26,
     "metadata": {},
     "output_type": "execute_result"
    }
   ],
   "source": [
    "program_alarm(test_input_3)"
   ]
  },
  {
   "cell_type": "code",
   "execution_count": 30,
   "metadata": {},
   "outputs": [
    {
     "name": "stdout",
     "output_type": "stream",
     "text": [
      "99 * 99 = 9801 into 5\n"
     ]
    },
    {
     "data": {
      "text/plain": [
       "[2, 4, 4, 5, 99, 9801]"
      ]
     },
     "execution_count": 30,
     "metadata": {},
     "output_type": "execute_result"
    }
   ],
   "source": [
    "program_alarm([2,4,4,5,99,0])"
   ]
  },
  {
   "cell_type": "code",
   "execution_count": 31,
   "metadata": {},
   "outputs": [
    {
     "name": "stdout",
     "output_type": "stream",
     "text": [
      "3 * 2 = 6 into 3\n"
     ]
    },
    {
     "data": {
      "text/plain": [
       "[2, 3, 0, 6, 99]"
      ]
     },
     "execution_count": 31,
     "metadata": {},
     "output_type": "execute_result"
    }
   ],
   "source": [
    "program_alarm([2,3,0,3,99])"
   ]
  },
  {
   "cell_type": "code",
   "execution_count": 75,
   "metadata": {},
   "outputs": [
    {
     "data": {
      "text/plain": [
       "[9706670,\n",
       " 12,\n",
       " 2,\n",
       " 2,\n",
       " 1,\n",
       " 1,\n",
       " 2,\n",
       " 3,\n",
       " 1,\n",
       " 3,\n",
       " 4,\n",
       " 3,\n",
       " 1,\n",
       " 5,\n",
       " 0,\n",
       " 3,\n",
       " 2,\n",
       " 10,\n",
       " 1,\n",
       " 48,\n",
       " 1,\n",
       " 5,\n",
       " 19,\n",
       " 49,\n",
       " 1,\n",
       " 23,\n",
       " 5,\n",
       " 50,\n",
       " 2,\n",
       " 27,\n",
       " 10,\n",
       " 200,\n",
       " 1,\n",
       " 5,\n",
       " 31,\n",
       " 201,\n",
       " 2,\n",
       " 35,\n",
       " 6,\n",
       " 402,\n",
       " 1,\n",
       " 6,\n",
       " 39,\n",
       " 404,\n",
       " 2,\n",
       " 13,\n",
       " 43,\n",
       " 2020,\n",
       " 2,\n",
       " 9,\n",
       " 47,\n",
       " 6060,\n",
       " 1,\n",
       " 6,\n",
       " 51,\n",
       " 6062,\n",
       " 1,\n",
       " 55,\n",
       " 9,\n",
       " 6065,\n",
       " 2,\n",
       " 6,\n",
       " 59,\n",
       " 12130,\n",
       " 1,\n",
       " 5,\n",
       " 63,\n",
       " 12131,\n",
       " 2,\n",
       " 67,\n",
       " 13,\n",
       " 60655,\n",
       " 1,\n",
       " 9,\n",
       " 71,\n",
       " 60658,\n",
       " 1,\n",
       " 75,\n",
       " 9,\n",
       " 60661,\n",
       " 2,\n",
       " 79,\n",
       " 10,\n",
       " 242644,\n",
       " 1,\n",
       " 6,\n",
       " 83,\n",
       " 242646,\n",
       " 1,\n",
       " 5,\n",
       " 87,\n",
       " 242647,\n",
       " 1,\n",
       " 6,\n",
       " 91,\n",
       " 242649,\n",
       " 1,\n",
       " 95,\n",
       " 13,\n",
       " 242654,\n",
       " 1,\n",
       " 10,\n",
       " 99,\n",
       " 242658,\n",
       " 2,\n",
       " 6,\n",
       " 103,\n",
       " 485316,\n",
       " 1,\n",
       " 107,\n",
       " 5,\n",
       " 485317,\n",
       " 1,\n",
       " 111,\n",
       " 13,\n",
       " 485322,\n",
       " 1,\n",
       " 115,\n",
       " 13,\n",
       " 485327,\n",
       " 1,\n",
       " 13,\n",
       " 119,\n",
       " 485332,\n",
       " 2,\n",
       " 123,\n",
       " 13,\n",
       " 2426660,\n",
       " 1,\n",
       " 127,\n",
       " 6,\n",
       " 2426662,\n",
       " 1,\n",
       " 131,\n",
       " 9,\n",
       " 2426665,\n",
       " 1,\n",
       " 5,\n",
       " 135,\n",
       " 2426666,\n",
       " 2,\n",
       " 139,\n",
       " 6,\n",
       " 4853332,\n",
       " 2,\n",
       " 6,\n",
       " 143,\n",
       " 9706664,\n",
       " 1,\n",
       " 5,\n",
       " 147,\n",
       " 9706665,\n",
       " 1,\n",
       " 151,\n",
       " 2,\n",
       " 9706667,\n",
       " 1,\n",
       " 9,\n",
       " 155,\n",
       " 0,\n",
       " 99,\n",
       " 2,\n",
       " 14,\n",
       " 0,\n",
       " 0]"
      ]
     },
     "execution_count": 75,
     "metadata": {},
     "output_type": "execute_result"
    }
   ],
   "source": [
    "input_list = [1,0,0,3,1,1,2,3,1,3,4,3,1,5,0,3,2,10,1,19,1,5,19,23,1,23,5,27,2,27,10,31,1,5,31,35,2,35,6,39,1,6,39,43,2,13,43,47,2,9,47,51,1,6,51,55,1,55,9,59,2,6,59,63,1,5,63,67,2,67,13,71,1,9,71,75,1,75,9,79,2,79,10,83,1,6,83,87,1,5,87,91,1,6,91,95,1,95,13,99,1,10,99,103,2,6,103,107,1,107,5,111,1,111,13,115,1,115,13,119,1,13,119,123,2,123,13,127,1,127,6,131,1,131,9,135,1,5,135,139,2,139,6,143,2,6,143,147,1,5,147,151,1,151,2,155,1,9,155,0,99,2,14,0,0]\n",
    "#input_list[1] = 12\n",
    "#input_list[2] = 2\n",
    "program_alarm(input_list, 12, 2)"
   ]
  },
  {
   "cell_type": "markdown",
   "metadata": {},
   "source": [
    "# part 2"
   ]
  },
  {
   "cell_type": "code",
   "execution_count": 65,
   "metadata": {
    "collapsed": true
   },
   "outputs": [],
   "source": [
    "objective = 19690720"
   ]
  },
  {
   "cell_type": "code",
   "execution_count": 76,
   "metadata": {},
   "outputs": [
    {
     "name": "stdout",
     "output_type": "stream",
     "text": [
      "25\n",
      "52\n"
     ]
    }
   ],
   "source": [
    "for i in range(100):\n",
    "    for j in range(100):\n",
    "        input_list_temp = input_list[:]\n",
    "        result = program_alarm(input_list_temp, i, j)\n",
    "        if result[0] == objective:\n",
    "            print(i)\n",
    "            print(j)\n",
    "            break"
   ]
  }
 ],
 "metadata": {
  "kernelspec": {
   "display_name": "Python 3",
   "language": "python",
   "name": "python3"
  },
  "language_info": {
   "codemirror_mode": {
    "name": "ipython",
    "version": 3
   },
   "file_extension": ".py",
   "mimetype": "text/x-python",
   "name": "python",
   "nbconvert_exporter": "python",
   "pygments_lexer": "ipython3",
   "version": "3.6.2"
  }
 },
 "nbformat": 4,
 "nbformat_minor": 2
}
